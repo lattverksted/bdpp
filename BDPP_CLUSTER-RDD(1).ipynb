{
 "cells": [
  {
   "cell_type": "code",
   "execution_count": 2,
   "metadata": {},
   "outputs": [],
   "source": [
    "#!pip install nb_black\n",
    "#%load_ext nb_black\n",
    "\n",
    "from pyspark.sql import SparkSession\n",
    "import pyspark.sql.functions as F\n",
    "import pyspark.sql.types as T\n",
    "from pyspark import SparkContext, SparkConf\n",
    "\n",
    "spark = SparkSession.builder.getOrCreate()\n",
    "conf = SparkConf().setAppName('Spark Lab2')\n",
    "sc = spark.sparkContext # conf=conf)\n"
   ]
  },
  {
   "cell_type": "code",
   "execution_count": 3,
   "metadata": {},
   "outputs": [
    {
     "data": {
      "text/html": [
       "\n",
       "        <div>\n",
       "            <p><b>SparkContext</b></p>\n",
       "\n",
       "            <p><a href=\"http://cluster-bdpp-proj2-m.europe-west2-c.c.my-project-bdpp-2021.internal:33275\">Spark UI</a></p>\n",
       "\n",
       "            <dl>\n",
       "              <dt>Version</dt>\n",
       "                <dd><code>v3.1.1</code></dd>\n",
       "              <dt>Master</dt>\n",
       "                <dd><code>yarn</code></dd>\n",
       "              <dt>AppName</dt>\n",
       "                <dd><code>pyspark-shell</code></dd>\n",
       "            </dl>\n",
       "        </div>\n",
       "        "
      ],
      "text/plain": [
       "<SparkContext master=yarn appName=pyspark-shell>"
      ]
     },
     "execution_count": 3,
     "metadata": {},
     "output_type": "execute_result"
    }
   ],
   "source": [
    "spark\n",
    "sc"
   ]
  },
  {
   "cell_type": "code",
   "execution_count": 7,
   "metadata": {},
   "outputs": [
    {
     "name": "stdout",
     "output_type": "stream",
     "text": [
      "758.5096170902252 sec\n",
      "DEFAULT : 2  partitions None\n"
     ]
    }
   ],
   "source": [
    "from pyspark.sql.functions import regexp_replace\n",
    "from pyspark.sql import functions as F\n",
    "from pyspark.ml import Pipeline, PipelineModel\n",
    "from pyspark.ml.feature import (\n",
    "    Tokenizer,\n",
    "    RegexTokenizer,\n",
    "    StopWordsRemover,\n",
    "    CountVectorizer,\n",
    "    IDF,\n",
    "    StringIndexer,\n",
    "    StandardScaler,\n",
    ")\n",
    "\n",
    "from pyspark.ml.classification import LogisticRegression, LinearSVC\n",
    "from pyspark.ml.evaluation import BinaryClassificationEvaluator\n",
    "from pyspark.mllib.classification import SVMWithSGD, SVMModel\n",
    "from pyspark.mllib.regression import LabeledPoint\n",
    "from pyspark.mllib import linalg as mllib_linalg\n",
    "from pyspark.mllib.regression import LabeledPoint\n",
    "from pyspark.sql.functions import col\n",
    "\n",
    "import time\n",
    "\n",
    "\n",
    "#LOAD\n",
    "\n",
    "df = spark.read.load(\"gs://colmbo_bdpp_bucket1/datasetB1.csv\", format=\"csv\", sep=\"|\", header=\"true\")\n",
    "\n",
    "\n",
    "#df.printSchema()\n",
    "#df.show(2)\n",
    "#df.count()\n",
    "df = df.select(\"text\", \"label\")\n",
    "\n",
    "# SPLIT TRAIN/TEST\n",
    "\n",
    "train, test = df.randomSplit([0.7, 0.3], seed=8984)\n",
    "\n",
    "#print(f\"Train set length: {train.count()} records\")\n",
    "#print(f\"Test set length: {test.count()} records\")\n",
    "\n",
    "#train.first()\n",
    "\n",
    "# CLEAN\n",
    "\n",
    "\n",
    "# drop null values\n",
    "train.dropna()\n",
    "test.dropna()\n",
    "\n",
    "#print(f\"Train set length: {train.count()} records\")\n",
    "\n",
    "\n",
    "# drop numbers\n",
    "train.withColumn(\"text\", F.regexp_replace(F.col(\"text\"), \"\\d+\", \"\"))\n",
    "\n",
    "#train.withColumn(\"text\", F.regexp_replace(F.col(\"text\"), \"\\!+\", \"\"))\n",
    "train.select('text').replace(\".\", \"\")\n",
    "\n",
    "#train.head(2)\n",
    "\n",
    "\n",
    "### TRAIN\n",
    "\n",
    "# pipeline\n",
    "\n",
    "start = time.time()\n",
    "\n",
    "regexTokenizer = RegexTokenizer(\n",
    "    inputCol=\"text\", outputCol=\"words\", pattern=\"\\\\W\", minTokenLength=2\n",
    ")\n",
    "\n",
    "remover = StopWordsRemover(inputCol=\"words\", outputCol=\"filtered\")\n",
    "StopWordsRemover.loadDefaultStopWords(\"english\")\n",
    "\n",
    "cv = CountVectorizer(\n",
    "    inputCol=\"filtered\", outputCol=\"counts\", minDF=2.0 , vocabSize=1500)\n",
    "\n",
    "idf = IDF(\n",
    "    inputCol=\"counts\", outputCol=\"features\", minDocFreq=10\n",
    ")  # minDocFreq: remove sparse terms\n",
    "\n",
    "label_stringIdx = StringIndexer(inputCol=\"label\", outputCol=\"index\")\n",
    "label_stringIdx.setHandleInvalid(\"skip\")\n",
    "\n",
    "#scaler = StandardScaler(\n",
    "   # inputCol=\"features\", outputCol=\"scaledFeatures\", withStd=True, withMean=True\n",
    "#)\n",
    "\n",
    "pipeline = Pipeline(\n",
    "    stages=[regexTokenizer, remover, cv, idf, label_stringIdx]\n",
    ")  #\n",
    "\n",
    "\n",
    "pipelineFit = pipeline.fit(train)\n",
    "\n",
    "\n",
    "# CREATE PARTITION\n",
    "pre_processed = pipelineFit.transform(train).select([\"features\", \"index\"])\n",
    "\n",
    "#pre_processed.printSchema()\n",
    "\n",
    "\n",
    "# create RDD of Label points\n",
    "rdd_label_point = pre_processed.rdd.map(lambda line:LabeledPoint(line[1],[line[0]]))\n",
    "\n",
    "#rdd_label_point.first()\n",
    "\n",
    "\n",
    "\n",
    "# Build the model SVM\n",
    "modelSVM = SVMWithSGD.train(rdd_label_point, iterations=10,regParam=0.1)\n",
    "\n",
    "#modelSVM.weights\n",
    "\n",
    "latency = time.time() - start\n",
    "\n",
    "print(latency, 'sec')\n",
    "print(\"DEFAULT :\",rdd_label_point.getNumPartitions(), \" partitions\", rdd_label_point.partitioner)"
   ]
  },
  {
   "cell_type": "markdown",
   "metadata": {},
   "source": [
    "### TEST"
   ]
  },
  {
   "cell_type": "code",
   "execution_count": 6,
   "metadata": {},
   "outputs": [
    {
     "name": "stdout",
     "output_type": "stream",
     "text": [
      "0.3488914966583252 sec\n"
     ]
    }
   ],
   "source": [
    "start = time.time()\n",
    "\n",
    "# Evaluating the model on test data\n",
    "\n",
    "pre_processed_test = pipelineFit.transform(test).select([\"features\", \"index\"])\n",
    "\n",
    "# create RDD of Label points\n",
    "\n",
    "lpoint = pre_processed_test.rdd.map(lambda row: LabeledPoint(row[\"index\"], mllib_linalg.DenseVector(row[\"features\"])))\n",
    "\n",
    "labelsAndPreds = lpoint.map(lambda p: (p.label, modelSVM.predict(p.features)))\n",
    "\n",
    "latency = time.time() - start\n",
    "\n",
    "print(latency, 'sec')\n",
    "\n",
    "#labelsAndPreds.take(10)"
   ]
  },
  {
   "cell_type": "markdown",
   "metadata": {},
   "source": [
    "### EVALUATION"
   ]
  },
  {
   "cell_type": "code",
   "execution_count": 8,
   "metadata": {},
   "outputs": [
    {
     "name": "stdout",
     "output_type": "stream",
     "text": [
      "Test Accuracy = 85.68584511248258%\n"
     ]
    }
   ],
   "source": [
    "testAccuracy = labelsAndPreds.filter(lambda lp: lp[0] == lp[1]).count() / float(lpoint.count())\n",
    "print(\"Test Accuracy = \" + str(100*testAccuracy) + \"%\")"
   ]
  },
  {
   "cell_type": "code",
   "execution_count": null,
   "metadata": {},
   "outputs": [],
   "source": []
  }
 ],
 "metadata": {
  "kernelspec": {
   "display_name": "Python 3",
   "language": "python",
   "name": "python3"
  },
  "language_info": {
   "codemirror_mode": {
    "name": "ipython",
    "version": 3
   },
   "file_extension": ".py",
   "mimetype": "text/x-python",
   "name": "python",
   "nbconvert_exporter": "python",
   "pygments_lexer": "ipython3",
   "version": "3.8.8"
  }
 },
 "nbformat": 4,
 "nbformat_minor": 2
}
