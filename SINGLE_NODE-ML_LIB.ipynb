{
 "cells": [
  {
   "cell_type": "code",
   "execution_count": 1,
   "metadata": {},
   "outputs": [],
   "source": [
    "#!pip install nb_black\n",
    "#%load_ext nb_black\n",
    "\n",
    "from pyspark.sql import SparkSession\n",
    "import pyspark.sql.functions as F\n",
    "import pyspark.sql.types as T\n",
    "\n",
    "spark = SparkSession.builder.getOrCreate()"
   ]
  },
  {
   "cell_type": "code",
   "execution_count": 2,
   "metadata": {},
   "outputs": [
    {
     "data": {
      "text/html": [
       "\n",
       "            <div>\n",
       "                <p><b>SparkSession - hive</b></p>\n",
       "                \n",
       "        <div>\n",
       "            <p><b>SparkContext</b></p>\n",
       "\n",
       "            <p><a href=\"http://cluster-bdpp-single-m.europe-west2-a.c.my-project-bdpp-2021.internal:43267\">Spark UI</a></p>\n",
       "\n",
       "            <dl>\n",
       "              <dt>Version</dt>\n",
       "                <dd><code>v3.1.1</code></dd>\n",
       "              <dt>Master</dt>\n",
       "                <dd><code>yarn</code></dd>\n",
       "              <dt>AppName</dt>\n",
       "                <dd><code>pyspark-shell</code></dd>\n",
       "            </dl>\n",
       "        </div>\n",
       "        \n",
       "            </div>\n",
       "        "
      ],
      "text/plain": [
       "<pyspark.sql.session.SparkSession at 0x7f1250ab8df0>"
      ]
     },
     "execution_count": 2,
     "metadata": {},
     "output_type": "execute_result"
    }
   ],
   "source": [
    "spark"
   ]
  },
  {
   "cell_type": "markdown",
   "metadata": {},
   "source": [
    "### LOAD, PRE-PROCESS, TRAIN"
   ]
  },
  {
   "cell_type": "code",
   "execution_count": 5,
   "metadata": {},
   "outputs": [
    {
     "data": {
      "text/plain": [
       "DataFrame[text: string]"
      ]
     },
     "execution_count": 5,
     "metadata": {},
     "output_type": "execute_result"
    }
   ],
   "source": [
    "from pyspark.sql.functions import regexp_replace\n",
    "from pyspark.sql import functions as F\n",
    "import time\n",
    "from pyspark.ml import Pipeline, PipelineModel\n",
    "from pyspark.ml.feature import (\n",
    "    Tokenizer,\n",
    "    RegexTokenizer,\n",
    "    StopWordsRemover,\n",
    "    CountVectorizer,\n",
    "    IDF,\n",
    "    StringIndexer,\n",
    "    StandardScaler,\n",
    ")\n",
    "\n",
    "from pyspark.ml.classification import LogisticRegression, LinearSVC\n",
    "from pyspark.ml.evaluation import BinaryClassificationEvaluator\n",
    "\n",
    "\n",
    "\n",
    "\n",
    "\n",
    "# LOAD \n",
    "df = spark.read.load(\"gs://colmbo_bdpp_bucket1/datasetB1.csv\", format=\"csv\", sep=\"|\", header=\"true\")\n",
    "\n",
    "\n",
    "\n",
    "#df.printSchema()\n",
    "\n",
    "#df.show(2)\n",
    "#df.count()\n",
    "df = df.select(\"text\", \"label\")\n",
    "\n",
    "\n",
    "# TRAIN/TEST SPLIT\n",
    "\n",
    "train, test = df.randomSplit([0.7, 0.3], seed=8984)\n",
    "\n",
    "#print(f\"Train set length: {train.count()} records\")\n",
    "#print(f\"Test set length: {test.count()} records\")\n",
    "\n",
    "#train.first()\n",
    "\n",
    "\n",
    "# CLEAN\n",
    "\n",
    "# drop null values\n",
    "train.dropna()\n",
    "test.dropna()\n",
    "\n",
    "#print(f\"Train set length: {train.count()} records\")\n",
    "\n",
    "\n",
    "# drop numbers\n",
    "train.withColumn(\"text\", F.regexp_replace(F.col(\"text\"), \"\\d+\", \"\"))\n",
    "\n",
    "#train.withColumn(\"text\", F.regexp_replace(F.col(\"text\"), \"\\!+\", \"\"))\n",
    "train.select('text').replace(\".\", \"\")\n",
    "\n",
    "#train.head(2)\n"
   ]
  },
  {
   "cell_type": "code",
   "execution_count": 6,
   "metadata": {},
   "outputs": [
    {
     "name": "stdout",
     "output_type": "stream",
     "text": [
      "TRAIN TIME :  45.429604291915894 s\n"
     ]
    }
   ],
   "source": [
    "\n",
    "start = time.time()\n",
    "\n",
    "# PIPELINE\n",
    "\n",
    "\n",
    "regexTokenizer = RegexTokenizer(\n",
    "    inputCol=\"text\", outputCol=\"words\", pattern=\"\\\\W\", minTokenLength=2\n",
    ")\n",
    "\n",
    "remover = StopWordsRemover(inputCol=\"words\", outputCol=\"filtered\")\n",
    "StopWordsRemover.loadDefaultStopWords(\"english\")\n",
    "\n",
    "cv = CountVectorizer(\n",
    "    inputCol=\"filtered\", outputCol=\"counts\", minDF=2.0 , vocabSize=1500)\n",
    "\n",
    "idf = IDF(\n",
    "    inputCol=\"counts\", outputCol=\"features\", minDocFreq=10\n",
    ")  # minDocFreq: remove sparse terms\n",
    "\n",
    "label_stringIdx = StringIndexer(inputCol=\"label\", outputCol=\"index\")\n",
    "label_stringIdx.setHandleInvalid(\"skip\")\n",
    "\n",
    "#scaler = StandardScaler(\n",
    "#    inputCol=\"features\", outputCol=\"scaledFeatures\", withStd=True, withMean=True\n",
    "#)\n",
    "\n",
    "\n",
    "classifier = LinearSVC(featuresCol=\"features\", labelCol=\"index\", maxIter=10, regParam=0.1)\n",
    "\n",
    "pipeline = Pipeline(\n",
    "    stages=[regexTokenizer, remover, cv, idf, label_stringIdx,classifier]\n",
    ")  \n",
    "\n",
    "pipelineFit = pipeline.fit(train)\n",
    "\n",
    "\n",
    "train_time = time.time()-start\n",
    "print(\"TRAIN TIME : \",train_time, \"s\")\n"
   ]
  },
  {
   "cell_type": "markdown",
   "metadata": {},
   "source": [
    "\n"
   ]
  },
  {
   "cell_type": "code",
   "execution_count": 4,
   "metadata": {},
   "outputs": [
    {
     "name": "stdout",
     "output_type": "stream",
     "text": [
      "TEST TIME :  0.2866382598876953 s\n"
     ]
    }
   ],
   "source": [
    "from pyspark.sql.functions import countDistinct\n",
    "\n",
    "\n",
    "start = time.time()\n",
    "predictions = pipelineFit.transform(test)\n",
    "test_time = time.time()-start\n",
    "print(\"TEST TIME : \",test_time, \"s\")\n",
    "\n",
    "#predictions.printSchema()\n",
    "\n",
    "# predictions.select([\"features\", \"index\", \"prediction\"]).show()\n",
    "#predictions.select([\"features\", \"index\", \"filtered\"]).show()\n",
    "\n",
    "\n",
    "# predictions.select(F.countDistinct(\"index\")).show()\n",
    "\n",
    "#predictions.groupBy(\"label\").count().show()\n",
    "# .orderBy()\n",
    "# print(l)\n",
    "\n",
    "# predictions.select(\"counts\")"
   ]
  },
  {
   "cell_type": "markdown",
   "metadata": {},
   "source": [
    "### EVALUATION"
   ]
  },
  {
   "cell_type": "code",
   "execution_count": 4,
   "metadata": {},
   "outputs": [
    {
     "name": "stdout",
     "output_type": "stream",
     "text": [
      "TEST ACCURACY :  87.30977574459757 %\n"
     ]
    }
   ],
   "source": [
    "\n",
    "evaluator = BinaryClassificationEvaluator(\n",
    "    rawPredictionCol=\"prediction\", labelCol=\"index\"\n",
    ")\n",
    "test_accuracy = 100*evaluator.evaluate(predictions)\n",
    "eval_time = time.time()-start\n",
    "print(\"TEST ACCURACY : \",test_accuracy, \"%\")\n",
    "\n",
    "\n"
   ]
  },
  {
   "cell_type": "code",
   "execution_count": 5,
   "metadata": {},
   "outputs": [
    {
     "name": "stdout",
     "output_type": "stream",
     "text": [
      "TRAIN ACCURACY :  88.42342105373683 %\n"
     ]
    }
   ],
   "source": [
    "\n",
    "train_predictions = pipelineFit.transform(train)\n",
    "\n",
    "train_accuracy = 100*evaluator.evaluate(train_predictions)\n",
    "print(\"TRAIN ACCURACY : \",train_accuracy, \"%\")"
   ]
  },
  {
   "cell_type": "code",
   "execution_count": null,
   "metadata": {},
   "outputs": [],
   "source": []
  }
 ],
 "metadata": {
  "kernelspec": {
   "display_name": "Python 3",
   "language": "python",
   "name": "python3"
  },
  "language_info": {
   "codemirror_mode": {
    "name": "ipython",
    "version": 3
   },
   "file_extension": ".py",
   "mimetype": "text/x-python",
   "name": "python",
   "nbconvert_exporter": "python",
   "pygments_lexer": "ipython3",
   "version": "3.8.8"
  }
 },
 "nbformat": 4,
 "nbformat_minor": 2
}
