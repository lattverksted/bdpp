{
 "cells": [
  {
   "cell_type": "code",
   "execution_count": 12,
   "metadata": {},
   "outputs": [
    {
     "name": "stdout",
     "output_type": "stream",
     "text": [
      "train/neg 0\n",
      "/home/joseph/Documents/BDPP/Project (Pending)/aclImdb\n",
      "train/pos 1\n",
      "/home/joseph/Documents/BDPP/Project (Pending)/aclImdb\n",
      "test/neg 0\n",
      "/home/joseph/Documents/BDPP/Project (Pending)/aclImdb\n",
      "test/pos 1\n",
      "/home/joseph/Documents/BDPP/Project (Pending)/aclImdb\n",
      "end\n"
     ]
    }
   ],
   "source": [
    "import glob, os\n",
    "import csv\n",
    "\n",
    "\n",
    "folders = []\n",
    "\n",
    "\n",
    "folders.append(\"train/neg\")    \n",
    "folders.append(\"train/pos\")  \n",
    "folders.append(\"test/neg\")  \n",
    "folders.append(\"test/pos\")  \n",
    "\n",
    "labels = [0,1,0,1]\n",
    "\n",
    "#with open('C:/Users/mboun/Documents/Notebooks/BDPP/Project (Pending)/dataset.csv', mode='w') as data_file:\n",
    "        #data_writer = csv.writer(data_file) #, delimiter=',', quotechar='\"' ),quoting=csv.QUOTE_MINIMAL\n",
    "\n",
    "    \n",
    "filename = 'datasetB3.csv'\n",
    "dirname = os.path.dirname(filename)\n",
    "\n",
    "#if not os.path.exists(dirname):\n",
    "    #os.makedirs(dirname)\n",
    "\n",
    "os.chdir(\"/home/joseph/Documents/BDPP/Project (Pending)/aclImdb\")\n",
    "\n",
    "with open(filename, 'w' ,encoding='utf-8') as data_file: #\n",
    "        data_writer = csv.writer(data_file, quotechar='\"' ,quoting=csv.QUOTE_MINIMAL)\n",
    "\n",
    "        for i in range(0,4) :\n",
    "    \n",
    "\n",
    "            print(folders[i], labels[i])\n",
    "            print(os.getcwd())\n",
    "            os.chdir(folders[i])\n",
    "            for file in glob.glob(\"*.txt\"):\n",
    "                #print(file)\n",
    "                with open(file,\"r\",encoding='utf-8') as f:     #\n",
    "                    lines = f.readlines()\n",
    "                    for line in lines:\n",
    "                        \n",
    "                        line = line.lstrip(',./\\|@+><*#?')\n",
    "                    #dataset.append([''.join(lines), 0])\n",
    "                    #text = str()\n",
    "\n",
    "                    data_writer.writerow([''.join(lines), '|@'+ str(labels[i])])\n",
    "\n",
    "\n",
    "\n",
    "            os.chdir(\"../..\")\n",
    "print('end')\n",
    "#print(len(dataset))\n",
    "#print(dataset[11])\n",
    "\n",
    "\n",
    "        "
   ]
  },
  {
   "cell_type": "code",
   "execution_count": null,
   "metadata": {},
   "outputs": [],
   "source": []
  }
 ],
 "metadata": {
  "kernelspec": {
   "display_name": "Python 3",
   "language": "python",
   "name": "python3"
  },
  "language_info": {
   "codemirror_mode": {
    "name": "ipython",
    "version": 3
   },
   "file_extension": ".py",
   "mimetype": "text/x-python",
   "name": "python",
   "nbconvert_exporter": "python",
   "pygments_lexer": "ipython3",
   "version": "3.7.10"
  }
 },
 "nbformat": 4,
 "nbformat_minor": 4
}
