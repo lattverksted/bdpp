{
 "cells": [
  {
   "cell_type": "code",
   "execution_count": 1,
   "metadata": {},
   "outputs": [],
   "source": [
    "#!pip install nb_black\n",
    "#%load_ext nb_black\n",
    "\n",
    "from pyspark.sql import SparkSession\n",
    "import pyspark.sql.functions as F\n",
    "import pyspark.sql.types as T\n",
    "from pyspark import SparkContext, SparkConf\n",
    "\n",
    "spark = SparkSession.builder.getOrCreate()\n",
    "conf = SparkConf().setAppName('Spark Lab2')\n",
    "sc = spark.sparkContext # conf=conf)\n"
   ]
  },
  {
   "cell_type": "code",
   "execution_count": 2,
   "metadata": {},
   "outputs": [
    {
     "data": {
      "text/html": [
       "\n",
       "        <div>\n",
       "            <p><b>SparkContext</b></p>\n",
       "\n",
       "            <p><a href=\"http://cluster-bdpp-single-m.europe-west2-a.c.my-project-bdpp-2021.internal:37155\">Spark UI</a></p>\n",
       "\n",
       "            <dl>\n",
       "              <dt>Version</dt>\n",
       "                <dd><code>v3.1.1</code></dd>\n",
       "              <dt>Master</dt>\n",
       "                <dd><code>yarn</code></dd>\n",
       "              <dt>AppName</dt>\n",
       "                <dd><code>pyspark-shell</code></dd>\n",
       "            </dl>\n",
       "        </div>\n",
       "        "
      ],
      "text/plain": [
       "<SparkContext master=yarn appName=pyspark-shell>"
      ]
     },
     "execution_count": 2,
     "metadata": {},
     "output_type": "execute_result"
    }
   ],
   "source": [
    "spark\n",
    "sc"
   ]
  },
  {
   "cell_type": "code",
   "execution_count": 4,
   "metadata": {},
   "outputs": [
    {
     "name": "stdout",
     "output_type": "stream",
     "text": [
      "root\n",
      " |-- text: string (nullable = true)\n",
      " |-- label: string (nullable = true)\n",
      "\n",
      "+--------------------+-----+\n",
      "|                text|label|\n",
      "+--------------------+-----+\n",
      "|Story of a man wh...|    0|\n",
      "|Airport 77 starts...|    0|\n",
      "+--------------------+-----+\n",
      "only showing top 2 rows\n",
      "\n",
      "Train set length: 34932 records\n",
      "Test set length: 15070 records\n",
      "Train set length: 34932 records\n"
     ]
    },
    {
     "data": {
      "text/plain": [
       "[Row(text='     With their no holds bar cruel offensive humor sure enough to offended anyone you would sure think this would be a laugh riot! wrong Worest movie since Open water Dont be to surprised if you completely miss this movie upon release date as Im sure it wont do very good at all at the box office This movie had a lot of Potential but fell to little to short No enough character development awkward actors and The upside of this movie was nudity Boobs Amazing If I had to see this movie again I myself would go POSTAl    ', label='0'),\n",
       " Row(text='   And thats a bad thing because at least if this had been a Troma film it would have had wanton violence and a greater sense of anarchic abandon that might have brought my rating up a bitSo what we have instead is a very tame (rated PG) barely lukewarm low budget (Roger Corman produced it with an unknown director who has subsequently remained unknown) Gremlins (1984)Critters (1986)-wannabe with almost exclusively flat humor little of the logic that made Gremlins work so well--fantasy logic or not no suspense no sense of adventure and no violence or nudity to make up for itAlthough Im sure some of the problems with the film are inherent in the script--lets face it no one could deliver these jokes so that they would be funny--it seems like the biggest blame has to fall into the lap of the director Bettina Hirsch In more capable hands Munchies could have been entertainingAfter all it starts out like many great adventure films Simon Waterman (Harvey Korman) and his son Paul (Charles Stratton) are in Peru on an archaeological dig Simon is a bit of a wacky archaeologist who is always floating theories about the connections between ancient sites and alien civilizations For example he thinks he sees evidence of laser-cutting on ancient stonework So theyre at Machu Picchu looking for more evidence of Simons theories when they happen upon a secret chamber Inside they quickly find the animal they later dub Arnold one of the titular munchiesThey take Arnold back home to their small California desert town Simon who thinks that Arnold is probably an alien creature has to go off to a colleagues lecture and he plans on telling the colleague that he finally has an alien specimen Paul and his extremely cute girlfriend Cindy (Nadine Van der Velde) are left in charge of Arnold but as they havent seen each other in a long time they leave Arnold unsupervised while they hop in the sackMeanwhile Simons brother Cecil (played also by Korman in a dual role) owner of a successful snack foods company is eager to buy off Simons home and land--theyre adjacent to his own Simon doesnt want to sell so Cecil hits upon a scheme to steal Arnold Things gradually spiral out of control and the munchies who have a mean streak to go along with their cravings for junk food begin to overrun the townThat reads better in a summary than it plays on the screen The best shots in the film are those with natural landscapes in the background such as when characters are driving on the outskirts of the desert town Interiors with the exception of Cecils home tend to look like poorly decorated cheap sets and more importantly they tend to show that Hirsch is not very skilled at blocking and setting up shots Oddly given the paucity of the production design overall Cecils home is quite a gem imbued as it is in overblown 1980s style down to the smallest details and Cecils stepson Dude (Jon Stafford) was an amusing counterpoint Too bad then that hes out of the film so quicklyAt any rate Korman is a fun actor but he comes across much better here as Simon than as Cecil Unfortunately Simon ends up being absent for most of the film Cecil who is differentiated physically by a ridiculous wig and facial hair is not only the evil capitalist of the film hes one of Kormans classic inconsiderate boorish characters--that was one of his specialties frequently capitalized on in Carol Burnett Show (1967) skits Unlike The Carol Burnett Show which tended to succeed because directors Clark Jones and Dave Powers had a studied way of pushing the skits just to the brink of chaos Hirsch reins Korman in way too far and the Cecil character just doesnt work the way it shouldThere are a lot of other director-related problems not the least of which is wonky pacing and editing which completely sap any possible suspense or compelling dramatic impact from the film Even scenes that should have been shoe-ins for amping up the drama--such as when the munchies are harassing an old lady on the road--are put together far too awkwardly to have much affectThere are also serious logical problems with the story as it stands Where did the munchie in the chamber at Machu Picchu come from? The films trailer seems to show an answer to this but it was edited out of the final cut A more serious problem is that unlike gremlins there is no clear reason for munchies to go from cute cuddly furballs to menacing monsters It just happens Further because Munchies was kept PG and the violence remains toned down when the creatures are in their monster phase theyre never very threatening Theyre also easily dispatched at least temporarilyAdmittedly the gist of the film isnt suspense horror compelling drama or any of that other stuff but humor Its intended more as a spoof of Gremlins and the countless rip-offs in its wake The only problem with that is that the film just isnt funny even though I chuckled a couple times A surprisingly high percentage of the jokes are bland clichés Too much of the remaining material consists of non-sequiturs Given bad timing from Hirsch it all just falls flat There was potential to make a film that while a spoof was both funny and frightening hilarious and disturbing cheesy and suspenseful all at the same time ala Killer Klowns from Outer Space (1988) Too bad then that Munchies comes nowhere near that', label='0')]"
      ]
     },
     "execution_count": 4,
     "metadata": {},
     "output_type": "execute_result"
    }
   ],
   "source": [
    "from pyspark.sql.functions import regexp_replace\n",
    "from pyspark.sql import functions as F\n",
    "\n",
    "#LOAD\n",
    "\n",
    "df = spark.read.load(\"gs://colmbo_bdpp_bucket1/datasetB1.csv\", format=\"csv\", sep=\"|\", header=\"true\")\n",
    "\n",
    "\n",
    "df.printSchema()\n",
    "df.show(2)\n",
    "df.count()\n",
    "df = df.select(\"text\", \"label\")\n",
    "\n",
    "# SPLIT TRAIN/TEST\n",
    "\n",
    "train, test = df.randomSplit([0.7, 0.3], seed=8984)\n",
    "\n",
    "print(f\"Train set length: {train.count()} records\")\n",
    "print(f\"Test set length: {test.count()} records\")\n",
    "\n",
    "train.first()\n",
    "\n",
    "# CLEAN\n",
    "\n",
    "\n",
    "# drop null values\n",
    "train.dropna()\n",
    "test.dropna()\n",
    "\n",
    "print(f\"Train set length: {train.count()} records\")\n",
    "\n",
    "\n",
    "# drop numbers\n",
    "train.withColumn(\"text\", F.regexp_replace(F.col(\"text\"), \"\\d+\", \"\"))\n",
    "\n",
    "#train.withColumn(\"text\", F.regexp_replace(F.col(\"text\"), \"\\!+\", \"\"))\n",
    "train.select('text').replace(\".\", \"\")\n",
    "\n",
    "train.head(2)"
   ]
  },
  {
   "cell_type": "markdown",
   "metadata": {},
   "source": [
    "### TRAIN"
   ]
  },
  {
   "cell_type": "code",
   "execution_count": 5,
   "metadata": {},
   "outputs": [
    {
     "name": "stdout",
     "output_type": "stream",
     "text": [
      "542.6542656421661 sec\n",
      "DEFAULT : 4  partitions None\n"
     ]
    }
   ],
   "source": [
    "# pipeline\n",
    "from pyspark.ml import Pipeline, PipelineModel\n",
    "from pyspark.ml.feature import (\n",
    "    Tokenizer,\n",
    "    RegexTokenizer,\n",
    "    StopWordsRemover,\n",
    "    CountVectorizer,\n",
    "    IDF,\n",
    "    StringIndexer,\n",
    "    StandardScaler,\n",
    ")\n",
    "\n",
    "from pyspark.ml.classification import LogisticRegression, LinearSVC\n",
    "from pyspark.ml.evaluation import BinaryClassificationEvaluator\n",
    "from pyspark.mllib.classification import SVMWithSGD, SVMModel\n",
    "from pyspark.mllib.regression import LabeledPoint\n",
    "from pyspark.mllib import linalg as mllib_linalg\n",
    "from pyspark.mllib.regression import LabeledPoint\n",
    "from pyspark.sql.functions import col\n",
    "\n",
    "import time\n",
    "\n",
    "\n",
    "\n",
    "start = time.time()\n",
    "\n",
    "\n",
    "regexTokenizer = RegexTokenizer(\n",
    "    inputCol=\"text\", outputCol=\"words\", pattern=\"\\\\W\", minTokenLength=2\n",
    ")\n",
    "\n",
    "remover = StopWordsRemover(inputCol=\"words\", outputCol=\"filtered\")\n",
    "StopWordsRemover.loadDefaultStopWords(\"english\")\n",
    "\n",
    "cv = CountVectorizer(\n",
    "    inputCol=\"filtered\", outputCol=\"counts\", minDF=2.0 , vocabSize=1500)\n",
    "\n",
    "idf = IDF(\n",
    "    inputCol=\"counts\", outputCol=\"features\", minDocFreq=10\n",
    ")  # minDocFreq: remove sparse terms\n",
    "\n",
    "label_stringIdx = StringIndexer(inputCol=\"label\", outputCol=\"index\")\n",
    "label_stringIdx.setHandleInvalid(\"skip\")\n",
    "\n",
    "#scaler = StandardScaler(\n",
    "   # inputCol=\"features\", outputCol=\"scaledFeatures\", withStd=True, withMean=True\n",
    "#)\n",
    "\n",
    "pipeline = Pipeline(\n",
    "    stages=[regexTokenizer, remover, cv, idf, label_stringIdx]\n",
    ")  #\n",
    "\n",
    "\n",
    "pipelineFit = pipeline.fit(train)\n",
    "\n",
    "\n",
    "# CREATE PARTITION\n",
    "pre_processed = pipelineFit.transform(train).select([\"features\", \"index\"])\n",
    "\n",
    "#pre_processed.printSchema()\n",
    "\n",
    "\n",
    "# create RDD of Label points\n",
    "rdd_label_point = pre_processed.rdd.map(lambda line:LabeledPoint(line[1],[line[0]]))\n",
    "\n",
    "#rdd_label_point.first()\n",
    "\n",
    "\n",
    "\n",
    "# Build the model SVM\n",
    "modelSVM = SVMWithSGD.train(rdd_label_point, iterations=10,regParam=0.1)\n",
    "\n",
    "#modelSVM.weights\n",
    "\n",
    "latency = time.time() - start\n",
    "\n",
    "print(latency, 'sec')\n",
    "print(\"DEFAULT :\",rdd_label_point.getNumPartitions(), \" partitions\", rdd_label_point.partitioner)"
   ]
  },
  {
   "cell_type": "markdown",
   "metadata": {},
   "source": [
    "### TEST"
   ]
  },
  {
   "cell_type": "code",
   "execution_count": 6,
   "metadata": {},
   "outputs": [
    {
     "name": "stdout",
     "output_type": "stream",
     "text": [
      "0.31357240676879883 sec\n"
     ]
    }
   ],
   "source": [
    "start = time.time()\n",
    "\n",
    "# Evaluating the model on test data\n",
    "\n",
    "pre_processed_test = pipelineFit.transform(test).select([\"features\", \"index\"])\n",
    "\n",
    "# create RDD of Label points\n",
    "\n",
    "lpoint = pre_processed_test.rdd.map(lambda row: LabeledPoint(row[\"index\"], mllib_linalg.DenseVector(row[\"features\"])))\n",
    "\n",
    "labelsAndPreds = lpoint.map(lambda p: (p.label, modelSVM.predict(p.features)))\n",
    "\n",
    "latency = time.time() - start\n",
    "\n",
    "print(latency, 'sec')\n",
    "\n",
    "#labelsAndPreds.take(10)"
   ]
  },
  {
   "cell_type": "markdown",
   "metadata": {},
   "source": [
    "### EVALUATION"
   ]
  },
  {
   "cell_type": "code",
   "execution_count": 43,
   "metadata": {},
   "outputs": [
    {
     "name": "stdout",
     "output_type": "stream",
     "text": [
      "Test Accuracy = 81.43038059054855%\n"
     ]
    }
   ],
   "source": [
    "testAccuracy = labelsAndPreds.filter(lambda lp: lp[0] == lp[1]).count() / float(lpoint.count())\n",
    "print(\"Test Accuracy = \" + str(100*testAccuracy) + \"%\")"
   ]
  },
  {
   "cell_type": "code",
   "execution_count": null,
   "metadata": {},
   "outputs": [],
   "source": []
  }
 ],
 "metadata": {
  "kernelspec": {
   "display_name": "Python 3",
   "language": "python",
   "name": "python3"
  },
  "language_info": {
   "codemirror_mode": {
    "name": "ipython",
    "version": 3
   },
   "file_extension": ".py",
   "mimetype": "text/x-python",
   "name": "python",
   "nbconvert_exporter": "python",
   "pygments_lexer": "ipython3",
   "version": "3.8.8"
  }
 },
 "nbformat": 4,
 "nbformat_minor": 2
}
