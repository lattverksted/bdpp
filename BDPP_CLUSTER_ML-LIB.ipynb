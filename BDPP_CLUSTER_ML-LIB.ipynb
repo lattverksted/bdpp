{
 "cells": [
  {
   "cell_type": "code",
   "execution_count": 4,
   "id": "b7191046",
   "metadata": {},
   "outputs": [],
   "source": [
    "#!pip install nb_black\n",
    "#%load_ext nb_black\n",
    "\n",
    "from pyspark.sql import SparkSession\n",
    "import pyspark.sql.functions as F\n",
    "import pyspark.sql.types as T\n",
    "\n",
    "spark = SparkSession.builder.getOrCreate()"
   ]
  },
  {
   "cell_type": "code",
   "execution_count": 5,
   "id": "304a2124",
   "metadata": {},
   "outputs": [
    {
     "data": {
      "text/html": [
       "\n",
       "            <div>\n",
       "                <p><b>SparkSession - hive</b></p>\n",
       "                \n",
       "        <div>\n",
       "            <p><b>SparkContext</b></p>\n",
       "\n",
       "            <p><a href=\"http://cluster-bdpp-proj2-m.europe-west2-c.c.my-project-bdpp-2021.internal:40397\">Spark UI</a></p>\n",
       "\n",
       "            <dl>\n",
       "              <dt>Version</dt>\n",
       "                <dd><code>v3.1.1</code></dd>\n",
       "              <dt>Master</dt>\n",
       "                <dd><code>yarn</code></dd>\n",
       "              <dt>AppName</dt>\n",
       "                <dd><code>PySparkShell</code></dd>\n",
       "            </dl>\n",
       "        </div>\n",
       "        \n",
       "            </div>\n",
       "        "
      ],
      "text/plain": [
       "<pyspark.sql.session.SparkSession at 0x7f33bd2ba130>"
      ]
     },
     "execution_count": 5,
     "metadata": {},
     "output_type": "execute_result"
    }
   ],
   "source": [
    "spark\n"
   ]
  },
  {
   "cell_type": "code",
   "execution_count": 2,
   "id": "b558b962",
   "metadata": {},
   "outputs": [
    {
     "name": "stdout",
     "output_type": "stream",
     "text": [
      "TRAIN TIME :  50.52408504486084 s\n"
     ]
    }
   ],
   "source": [
    "from pyspark.sql.functions import regexp_replace\n",
    "from pyspark.sql import functions as F\n",
    "import time\n",
    "from pyspark.ml import Pipeline, PipelineModel\n",
    "from pyspark.ml.feature import (\n",
    "    Tokenizer,\n",
    "    RegexTokenizer,\n",
    "    StopWordsRemover,\n",
    "    CountVectorizer,\n",
    "    IDF,\n",
    "    StringIndexer,\n",
    "    StandardScaler,\n",
    ")\n",
    "\n",
    "from pyspark.ml.classification import LogisticRegression, LinearSVC\n",
    "from pyspark.ml.evaluation import BinaryClassificationEvaluator\n",
    "\n",
    "\n",
    "\n",
    "\n",
    "\n",
    "# LOAD\n",
    "df = spark.read.load(\"gs://colmbo_bdpp_bucket1/datasetB1.csv\", format=\"csv\", sep=\"|\", header=\"true\")\n",
    "\n",
    "\n",
    "#df.printSchema()\n",
    "\n",
    "#df.show(2)\n",
    "#df.count()\n",
    "df = df.select(\"text\", \"label\")\n",
    "\n",
    "\n",
    "# TRAIN/TEST SPLIT\n",
    "\n",
    "train, test = df.randomSplit([0.7, 0.3], seed=8984)\n",
    "\n",
    "#print(f\"Train set length: {train.count()} records\")\n",
    "#print(f\"Test set length: {test.count()} records\")\n",
    "\n",
    "#train.first()\n",
    "\n",
    "\n",
    "# CLEAN\n",
    "\n",
    "# drop null values\n",
    "train.dropna()\n",
    "test.dropna()\n",
    "\n",
    "#print(f\"Train set length: {train.count()} records\")\n",
    "\n",
    "\n",
    "# drop numbers\n",
    "train.withColumn(\"text\", F.regexp_replace(F.col(\"text\"), \"\\d+\", \"\"))\n",
    "\n",
    "#train.withColumn(\"text\", F.regexp_replace(F.col(\"text\"), \"\\!+\", \"\"))\n",
    "train.select('text').replace(\".\", \"\")\n",
    "\n",
    "#train.head(2)\n",
    "\n",
    "start = time.time()\n",
    "\n",
    "# PIPELINE\n",
    "\n",
    "\n",
    "regexTokenizer = RegexTokenizer(\n",
    "    inputCol=\"text\", outputCol=\"words\", pattern=\"\\\\W\", minTokenLength=2\n",
    ")\n",
    "\n",
    "remover = StopWordsRemover(inputCol=\"words\", outputCol=\"filtered\")\n",
    "StopWordsRemover.loadDefaultStopWords(\"english\")\n",
    "\n",
    "cv = CountVectorizer(\n",
    "    inputCol=\"filtered\", outputCol=\"counts\", minDF=2.0 , vocabSize=1500)\n",
    "\n",
    "idf = IDF(\n",
    "    inputCol=\"counts\", outputCol=\"features\", minDocFreq=10\n",
    ")  # minDocFreq: remove sparse terms\n",
    "\n",
    "label_stringIdx = StringIndexer(inputCol=\"label\", outputCol=\"index\")\n",
    "label_stringIdx.setHandleInvalid(\"skip\")\n",
    "\n",
    "scaler = StandardScaler(\n",
    "    inputCol=\"features\", outputCol=\"scaledFeatures\", withStd=True, withMean=True\n",
    ")\n",
    "\n",
    "\n",
    "classifier = LinearSVC(featuresCol=\"features\", labelCol=\"index\", maxIter=10, regParam=0.1)\n",
    "\n",
    "pipeline = Pipeline(\n",
    "    stages=[regexTokenizer, remover, cv, idf, label_stringIdx,classifier]\n",
    ")  \n",
    "\n",
    "pipelineFit = pipeline.fit(train)\n",
    "\n",
    "\n",
    "train_time = time.time()-start\n",
    "print(\"TRAIN TIME : \",train_time, \"s\")\n"
   ]
  },
  {
   "cell_type": "code",
   "execution_count": 3,
   "id": "08f2dd9c",
   "metadata": {},
   "outputs": [
    {
     "name": "stdout",
     "output_type": "stream",
     "text": [
      "TEST TIME :  0.22912049293518066 s\n",
      "+-----+-----+\n",
      "|label|count|\n",
      "+-----+-----+\n",
      "|    0|25001|\n",
      "|    1|25000|\n",
      "+-----+-----+\n",
      "\n"
     ]
    }
   ],
   "source": [
    "from pyspark.sql.functions import countDistinct\n",
    "\n",
    "\n",
    "start = time.time()\n",
    "predictions = pipelineFit.transform(df)\n",
    "test_time = time.time()-start\n",
    "print(\"TEST TIME : \",test_time, \"s\")\n",
    "\n",
    "#predictions.printSchema()\n",
    "\n",
    "# predictions.select([\"features\", \"index\", \"prediction\"]).show()\n",
    "#predictions.select([\"features\", \"index\", \"filtered\"]).show()\n",
    "\n",
    "\n",
    "#predictions.select(F.countDistinct(\"index\")).show()\n",
    "\n",
    "predictions.groupBy(\"label\").count().show()\n",
    "# .orderBy()\n",
    "# print(l)\n",
    "\n",
    "# predictions.select(\"counts\")"
   ]
  },
  {
   "cell_type": "code",
   "execution_count": null,
   "id": "b310f62c",
   "metadata": {},
   "outputs": [],
   "source": []
  }
 ],
 "metadata": {
  "kernelspec": {
   "display_name": "PySpark",
   "language": "python",
   "name": "pyspark"
  },
  "language_info": {
   "codemirror_mode": {
    "name": "ipython",
    "version": 3
   },
   "file_extension": ".py",
   "mimetype": "text/x-python",
   "name": "python",
   "nbconvert_exporter": "python",
   "pygments_lexer": "ipython3",
   "version": "3.8.8"
  }
 },
 "nbformat": 4,
 "nbformat_minor": 5
}
